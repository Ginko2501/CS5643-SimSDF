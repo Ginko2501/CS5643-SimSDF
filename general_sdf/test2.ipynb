{
 "cells": [
  {
   "cell_type": "code",
   "execution_count": 1,
   "metadata": {},
   "outputs": [
    {
     "name": "stdout",
     "output_type": "stream",
     "text": [
      "[Taichi] version 1.6.0, llvm 15.0.1, commit f1c6fbbd, win, python 3.11.3\n",
      "[Taichi] Starting on arch=x64\n",
      "[Taichi] Starting on arch=x64\n"
     ]
    }
   ],
   "source": [
    "import taichi as ti\n",
    "ti.init(arch=ti.cpu)\n",
    "from shape import Mesh_shape\n",
    "from collision import collideInfo\n",
    "from util import *"
   ]
  },
  {
   "cell_type": "code",
   "execution_count": 2,
   "metadata": {},
   "outputs": [],
   "source": [
    "rect1 = Mesh_shape('../data/rect.obj', o=vec2(0, 0), R=vec2(1, 0), v=vec2(0, 0), ω=0, m=1, I=1, scale=1, color=vec3(1, 0, 0))\n",
    "rect2 = Mesh_shape('../data/rect.obj', o=vec2(1.6, 0), R=vec2(0.894427, 0.447214), v=vec2(0, 0), ω=0, m=1, I=1, scale=1, color=vec3(0, 1, 0))"
   ]
  },
  {
   "cell_type": "code",
   "execution_count": 3,
   "metadata": {},
   "outputs": [],
   "source": [
    "@ti.kernel\n",
    "def collide_test()->int:\n",
    "    col = rect1.collide(rect2)\n",
    "    return len(col)\n",
    "    "
   ]
  },
  {
   "cell_type": "code",
   "execution_count": 4,
   "metadata": {},
   "outputs": [
    {
     "ename": "TaichiTypeError",
     "evalue": "\nFile \"C:\\Users\\Xilai\\AppData\\Local\\Temp\\ipykernel_19360\\1240701744.py\", line 3, in collide_test:\n    col = rect1.collide(rect2)\n          ^^^^^^^^^^^^^^^^^^^^\nFile \"d:\\Repositories\\SimSDF\\general_sdf\\shape.py\", line 105, in collide:\n    def collide(self, other):\n    ^^^^^^^^^^^^^^^^^^^^^^^^^\n\n\n        # initialize query points\n        ^^^^^^^^^^^^^^^^^^^^^^^^^\nInvalid constant scalar data type: <class 'shape.Mesh_shape'>",
     "output_type": "error",
     "traceback": [
      "\u001b[1;31m---------------------------------------------------------------------------\u001b[0m",
      "\u001b[1;31mTaichiTypeError\u001b[0m                           Traceback (most recent call last)",
      "Cell \u001b[1;32mIn[4], line 1\u001b[0m\n\u001b[1;32m----> 1\u001b[0m col \u001b[39m=\u001b[39m collide_test()\n",
      "File \u001b[1;32md:\\Program Files\\anaconda3\\envs\\cs5643\\Lib\\site-packages\\taichi\\lang\\kernel_impl.py:976\u001b[0m, in \u001b[0;36m_kernel_impl.<locals>.wrapped\u001b[1;34m(*args, **kwargs)\u001b[0m\n\u001b[0;32m    974\u001b[0m     \u001b[39mreturn\u001b[39;00m primal(\u001b[39m*\u001b[39margs, \u001b[39m*\u001b[39m\u001b[39m*\u001b[39mkwargs)\n\u001b[0;32m    975\u001b[0m \u001b[39mexcept\u001b[39;00m (TaichiCompilationError, TaichiRuntimeError) \u001b[39mas\u001b[39;00m e:\n\u001b[1;32m--> 976\u001b[0m     \u001b[39mraise\u001b[39;00m \u001b[39mtype\u001b[39m(e)(\u001b[39m\"\u001b[39m\u001b[39m\\n\u001b[39;00m\u001b[39m\"\u001b[39m \u001b[39m+\u001b[39m \u001b[39mstr\u001b[39m(e)) \u001b[39mfrom\u001b[39;00m \u001b[39mNone\u001b[39;00m\n",
      "\u001b[1;31mTaichiTypeError\u001b[0m: \nFile \"C:\\Users\\Xilai\\AppData\\Local\\Temp\\ipykernel_19360\\1240701744.py\", line 3, in collide_test:\n    col = rect1.collide(rect2)\n          ^^^^^^^^^^^^^^^^^^^^\nFile \"d:\\Repositories\\SimSDF\\general_sdf\\shape.py\", line 105, in collide:\n    def collide(self, other):\n    ^^^^^^^^^^^^^^^^^^^^^^^^^\n\n\n        # initialize query points\n        ^^^^^^^^^^^^^^^^^^^^^^^^^\nInvalid constant scalar data type: <class 'shape.Mesh_shape'>"
     ]
    }
   ],
   "source": [
    "col = collide_test()"
   ]
  },
  {
   "cell_type": "code",
   "execution_count": null,
   "metadata": {},
   "outputs": [],
   "source": [
    "a = collideInfo.field(shape=(5,))\n"
   ]
  },
  {
   "cell_type": "code",
   "execution_count": null,
   "metadata": {},
   "outputs": [],
   "source": [
    "type(a)"
   ]
  },
  {
   "cell_type": "code",
   "execution_count": null,
   "metadata": {},
   "outputs": [],
   "source": []
  }
 ],
 "metadata": {
  "kernelspec": {
   "display_name": "cs5643",
   "language": "python",
   "name": "python3"
  },
  "language_info": {
   "codemirror_mode": {
    "name": "ipython",
    "version": 3
   },
   "file_extension": ".py",
   "mimetype": "text/x-python",
   "name": "python",
   "nbconvert_exporter": "python",
   "pygments_lexer": "ipython3",
   "version": "3.11.3"
  },
  "orig_nbformat": 4
 },
 "nbformat": 4,
 "nbformat_minor": 2
}
